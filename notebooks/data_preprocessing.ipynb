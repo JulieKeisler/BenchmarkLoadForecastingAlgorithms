{
 "cells": [
  {
   "cell_type": "markdown",
   "metadata": {
    "id": "inGqaN7px7Q9"
   },
   "source": [
    "# UCI Dataset Preprocessing\n",
    "\n",
    "1. Load Dataset\n",
    "\n",
    "2. Handle missing values\n",
    "\n",
    "3. Scale Dataset\n",
    "\n",
    "4. Export preprocessed Dataset"
   ]
  },
  {
   "cell_type": "code",
   "execution_count": 20,
   "metadata": {
    "executionInfo": {
     "elapsed": 3104,
     "status": "ok",
     "timestamp": 1605440992461,
     "user": {
      "displayName": "Julie Keisler",
      "photoUrl": "",
      "userId": "12471311041049203692"
     },
     "user_tz": -60
    },
    "id": "9rbgbTCD2llt"
   },
   "outputs": [],
   "source": [
    "import pandas as pd\n",
    "import numpy as np\n",
    "import os\n",
    "import math\n",
    "import matplotlib.pyplot as plt\n",
    "from sklearn import preprocessing\n",
    "from sklearn.preprocessing import MinMaxScaler\n",
    "import pickle\n",
    "import calendar"
   ]
  },
  {
   "cell_type": "markdown",
   "metadata": {
    "id": "0RgpATw52y8N"
   },
   "source": [
    "### Load and preprocessed UCI Dataset: \n",
    "\n",
    "Source:\n",
    "\n",
    "Georges Hebrail (georges.hebrail '@' edf.fr), Senior Researcher, EDF R&D, Clamart, France\n",
    "\n",
    "Alice Berard, TELECOM ParisTech Master of Engineering Internship at EDF R&D, Clamart, France\n",
    "https://archive.ics.uci.edu/ml/datasets/individual+household+electric+power+consumption\n",
    "\n",
    "\n",
    "Data Set Information:\n",
    "\n",
    "This archive contains 2075259 measurements gathered in a house located in Sceaux (7km of Paris, France) between December 2006 and November 2010 (47 months).\n",
    "\n",
    "Notes:\n",
    "\n",
    "1.(global_active_power*1000/60 - sub_metering_1 - sub_metering_2 - sub_metering_3) represents the active energy consumed every minute (in watt hour) in the household by electrical equipment not measured in sub-meterings 1, 2 and 3.\n",
    "\n",
    "2.The dataset contains some missing values in the measurements (nearly 1,25% of the rows). All calendar timestamps are present in the dataset but for some timestamps, the measurement values are missing: a missing value is represented by the absence of value between two consecutive semi-colon attribute separators. For instance, the dataset shows missing values on April 28, 2007."
   ]
  },
  {
   "cell_type": "code",
   "execution_count": 31,
   "metadata": {
    "executionInfo": {
     "elapsed": 388,
     "status": "ok",
     "timestamp": 1605441350757,
     "user": {
      "displayName": "Julie Keisler",
      "photoUrl": "",
      "userId": "12471311041049203692"
     },
     "user_tz": -60
    },
    "id": "uXZCqXgv11yX"
   },
   "outputs": [],
   "source": [
    "repos_path = \"../Data/01_raw_data\""
   ]
  },
  {
   "cell_type": "code",
   "execution_count": 32,
   "metadata": {
    "executionInfo": {
     "elapsed": 10768,
     "status": "ok",
     "timestamp": 1605441363723,
     "user": {
      "displayName": "Julie Keisler",
      "photoUrl": "",
      "userId": "12471311041049203692"
     },
     "user_tz": -60
    },
    "id": "1fDFqYlK2M9Z"
   },
   "outputs": [],
   "source": [
    "temp = pd.read_csv(os.path.join(repos_path,\"household_power_consumption.txt\"), sep = ';', header=0, low_memory=False, \n",
    "            infer_datetime_format=True, parse_dates={'datetime':[0,1]}, index_col=['datetime'],na_values=['nan','?'])"
   ]
  },
  {
   "cell_type": "markdown",
   "metadata": {
    "id": "k-WgJ7Zq3bn9"
   },
   "source": [
    "#### Attribute Information:\n",
    "\n",
    "1.   date: Date in format dd/mm/yyyy\n",
    "\n",
    "2. time: time in format hh:mm:ss\n",
    "\n",
    "3. global_active_power: household global minute-averaged active power (in kilowatt)\n",
    "\n",
    "4. global_reactive_power: household global minute-averaged reactive power (in kilowatt)\n",
    "\n",
    "5. voltage: minute-averaged voltage (in volt)\n",
    "\n",
    "6. global_intensity: household global minute-averaged current intensity (in ampere)\n",
    "\n",
    "7. sub_metering_1: energy sub-metering No. 1 (in watt-hour of active energy). It corresponds to the kitchen, containing mainly a dishwasher, an oven and a microwave (hot plates are not electric but gas powered).\n",
    "\n",
    "8. sub_metering_2: energy sub-metering No. 2 (in watt-hour of active energy). It corresponds to the laundry room, containing a washing-machine, a tumble-drier, a refrigerator and a light.\n",
    "\n",
    "9. sub_metering_3: energy sub-metering No. 3 (in watt-hour of active energy). It corresponds to an electric water-heater and an air-conditioner.\n",
    "\n"
   ]
  },
  {
   "cell_type": "code",
   "execution_count": 33,
   "metadata": {
    "colab": {
     "base_uri": "https://localhost:8080/",
     "height": 226
    },
    "executionInfo": {
     "elapsed": 763,
     "status": "ok",
     "timestamp": 1605441369758,
     "user": {
      "displayName": "Julie Keisler",
      "photoUrl": "",
      "userId": "12471311041049203692"
     },
     "user_tz": -60
    },
    "id": "H_GRGebh3HAp",
    "outputId": "e98c8889-296d-4136-f2cb-c97cc2f7e5b5"
   },
   "outputs": [
    {
     "data": {
      "text/html": [
       "<div>\n",
       "<style scoped>\n",
       "    .dataframe tbody tr th:only-of-type {\n",
       "        vertical-align: middle;\n",
       "    }\n",
       "\n",
       "    .dataframe tbody tr th {\n",
       "        vertical-align: top;\n",
       "    }\n",
       "\n",
       "    .dataframe thead th {\n",
       "        text-align: right;\n",
       "    }\n",
       "</style>\n",
       "<table border=\"1\" class=\"dataframe\">\n",
       "  <thead>\n",
       "    <tr style=\"text-align: right;\">\n",
       "      <th></th>\n",
       "      <th>Global_active_power</th>\n",
       "      <th>Global_reactive_power</th>\n",
       "      <th>Voltage</th>\n",
       "      <th>Global_intensity</th>\n",
       "      <th>Sub_metering_1</th>\n",
       "      <th>Sub_metering_2</th>\n",
       "      <th>Sub_metering_3</th>\n",
       "    </tr>\n",
       "    <tr>\n",
       "      <th>datetime</th>\n",
       "      <th></th>\n",
       "      <th></th>\n",
       "      <th></th>\n",
       "      <th></th>\n",
       "      <th></th>\n",
       "      <th></th>\n",
       "      <th></th>\n",
       "    </tr>\n",
       "  </thead>\n",
       "  <tbody>\n",
       "    <tr>\n",
       "      <th>2006-12-16 17:24:00</th>\n",
       "      <td>4.216</td>\n",
       "      <td>0.418</td>\n",
       "      <td>234.84</td>\n",
       "      <td>18.4</td>\n",
       "      <td>0.0</td>\n",
       "      <td>1.0</td>\n",
       "      <td>17.0</td>\n",
       "    </tr>\n",
       "    <tr>\n",
       "      <th>2006-12-16 17:25:00</th>\n",
       "      <td>5.360</td>\n",
       "      <td>0.436</td>\n",
       "      <td>233.63</td>\n",
       "      <td>23.0</td>\n",
       "      <td>0.0</td>\n",
       "      <td>1.0</td>\n",
       "      <td>16.0</td>\n",
       "    </tr>\n",
       "    <tr>\n",
       "      <th>2006-12-16 17:26:00</th>\n",
       "      <td>5.374</td>\n",
       "      <td>0.498</td>\n",
       "      <td>233.29</td>\n",
       "      <td>23.0</td>\n",
       "      <td>0.0</td>\n",
       "      <td>2.0</td>\n",
       "      <td>17.0</td>\n",
       "    </tr>\n",
       "    <tr>\n",
       "      <th>2006-12-16 17:27:00</th>\n",
       "      <td>5.388</td>\n",
       "      <td>0.502</td>\n",
       "      <td>233.74</td>\n",
       "      <td>23.0</td>\n",
       "      <td>0.0</td>\n",
       "      <td>1.0</td>\n",
       "      <td>17.0</td>\n",
       "    </tr>\n",
       "    <tr>\n",
       "      <th>2006-12-16 17:28:00</th>\n",
       "      <td>3.666</td>\n",
       "      <td>0.528</td>\n",
       "      <td>235.68</td>\n",
       "      <td>15.8</td>\n",
       "      <td>0.0</td>\n",
       "      <td>1.0</td>\n",
       "      <td>17.0</td>\n",
       "    </tr>\n",
       "  </tbody>\n",
       "</table>\n",
       "</div>"
      ],
      "text/plain": [
       "                     Global_active_power  Global_reactive_power  Voltage  \\\n",
       "datetime                                                                   \n",
       "2006-12-16 17:24:00                4.216                  0.418   234.84   \n",
       "2006-12-16 17:25:00                5.360                  0.436   233.63   \n",
       "2006-12-16 17:26:00                5.374                  0.498   233.29   \n",
       "2006-12-16 17:27:00                5.388                  0.502   233.74   \n",
       "2006-12-16 17:28:00                3.666                  0.528   235.68   \n",
       "\n",
       "                     Global_intensity  Sub_metering_1  Sub_metering_2  \\\n",
       "datetime                                                                \n",
       "2006-12-16 17:24:00              18.4             0.0             1.0   \n",
       "2006-12-16 17:25:00              23.0             0.0             1.0   \n",
       "2006-12-16 17:26:00              23.0             0.0             2.0   \n",
       "2006-12-16 17:27:00              23.0             0.0             1.0   \n",
       "2006-12-16 17:28:00              15.8             0.0             1.0   \n",
       "\n",
       "                     Sub_metering_3  \n",
       "datetime                             \n",
       "2006-12-16 17:24:00            17.0  \n",
       "2006-12-16 17:25:00            16.0  \n",
       "2006-12-16 17:26:00            17.0  \n",
       "2006-12-16 17:27:00            17.0  \n",
       "2006-12-16 17:28:00            17.0  "
      ]
     },
     "execution_count": 33,
     "metadata": {},
     "output_type": "execute_result"
    }
   ],
   "source": [
    "temp.head()"
   ]
  },
  {
   "cell_type": "code",
   "execution_count": 34,
   "metadata": {
    "colab": {
     "base_uri": "https://localhost:8080/"
    },
    "executionInfo": {
     "elapsed": 589,
     "status": "ok",
     "timestamp": 1605441377487,
     "user": {
      "displayName": "Julie Keisler",
      "photoUrl": "",
      "userId": "12471311041049203692"
     },
     "user_tz": -60
    },
    "id": "1HgmUKve4hWm",
    "outputId": "aa1d7a1a-8a74-4f10-f445-6c8cf08d5dad"
   },
   "outputs": [
    {
     "name": "stdout",
     "output_type": "stream",
     "text": [
      "<class 'pandas.core.frame.DataFrame'>\n",
      "DatetimeIndex: 2075259 entries, 2006-12-16 17:24:00 to 2010-11-26 21:02:00\n",
      "Data columns (total 7 columns):\n",
      " #   Column                 Dtype  \n",
      "---  ------                 -----  \n",
      " 0   Global_active_power    float64\n",
      " 1   Global_reactive_power  float64\n",
      " 2   Voltage                float64\n",
      " 3   Global_intensity       float64\n",
      " 4   Sub_metering_1         float64\n",
      " 5   Sub_metering_2         float64\n",
      " 6   Sub_metering_3         float64\n",
      "dtypes: float64(7)\n",
      "memory usage: 126.7 MB\n"
     ]
    }
   ],
   "source": [
    "temp.info()"
   ]
  },
  {
   "cell_type": "code",
   "execution_count": 35,
   "metadata": {
    "colab": {
     "base_uri": "https://localhost:8080/",
     "height": 226
    },
    "executionInfo": {
     "elapsed": 10602,
     "status": "ok",
     "timestamp": 1605441399492,
     "user": {
      "displayName": "Julie Keisler",
      "photoUrl": "",
      "userId": "12471311041049203692"
     },
     "user_tz": -60
    },
    "id": "adPAlQHxLcqf",
    "outputId": "cd7d7643-7ab9-4d5e-dcb6-205da5775a98",
    "scrolled": true
   },
   "outputs": [
    {
     "data": {
      "text/html": [
       "<div>\n",
       "<style scoped>\n",
       "    .dataframe tbody tr th:only-of-type {\n",
       "        vertical-align: middle;\n",
       "    }\n",
       "\n",
       "    .dataframe tbody tr th {\n",
       "        vertical-align: top;\n",
       "    }\n",
       "\n",
       "    .dataframe thead th {\n",
       "        text-align: right;\n",
       "    }\n",
       "</style>\n",
       "<table border=\"1\" class=\"dataframe\">\n",
       "  <thead>\n",
       "    <tr style=\"text-align: right;\">\n",
       "      <th></th>\n",
       "      <th>Global_active_power</th>\n",
       "      <th>Global_reactive_power</th>\n",
       "      <th>Voltage</th>\n",
       "      <th>Global_intensity</th>\n",
       "      <th>Sub_metering_1</th>\n",
       "      <th>Sub_metering_2</th>\n",
       "      <th>Sub_metering_3</th>\n",
       "    </tr>\n",
       "    <tr>\n",
       "      <th>datetime</th>\n",
       "      <th></th>\n",
       "      <th></th>\n",
       "      <th></th>\n",
       "      <th></th>\n",
       "      <th></th>\n",
       "      <th></th>\n",
       "      <th></th>\n",
       "    </tr>\n",
       "  </thead>\n",
       "  <tbody>\n",
       "    <tr>\n",
       "      <th>2006-12-21 11:23:00</th>\n",
       "      <td>NaN</td>\n",
       "      <td>NaN</td>\n",
       "      <td>NaN</td>\n",
       "      <td>NaN</td>\n",
       "      <td>NaN</td>\n",
       "      <td>NaN</td>\n",
       "      <td>NaN</td>\n",
       "    </tr>\n",
       "    <tr>\n",
       "      <th>2006-12-21 11:24:00</th>\n",
       "      <td>NaN</td>\n",
       "      <td>NaN</td>\n",
       "      <td>NaN</td>\n",
       "      <td>NaN</td>\n",
       "      <td>NaN</td>\n",
       "      <td>NaN</td>\n",
       "      <td>NaN</td>\n",
       "    </tr>\n",
       "    <tr>\n",
       "      <th>2006-12-30 10:08:00</th>\n",
       "      <td>NaN</td>\n",
       "      <td>NaN</td>\n",
       "      <td>NaN</td>\n",
       "      <td>NaN</td>\n",
       "      <td>NaN</td>\n",
       "      <td>NaN</td>\n",
       "      <td>NaN</td>\n",
       "    </tr>\n",
       "    <tr>\n",
       "      <th>2006-12-30 10:09:00</th>\n",
       "      <td>NaN</td>\n",
       "      <td>NaN</td>\n",
       "      <td>NaN</td>\n",
       "      <td>NaN</td>\n",
       "      <td>NaN</td>\n",
       "      <td>NaN</td>\n",
       "      <td>NaN</td>\n",
       "    </tr>\n",
       "    <tr>\n",
       "      <th>2007-01-14 18:36:00</th>\n",
       "      <td>NaN</td>\n",
       "      <td>NaN</td>\n",
       "      <td>NaN</td>\n",
       "      <td>NaN</td>\n",
       "      <td>NaN</td>\n",
       "      <td>NaN</td>\n",
       "      <td>NaN</td>\n",
       "    </tr>\n",
       "  </tbody>\n",
       "</table>\n",
       "</div>"
      ],
      "text/plain": [
       "                     Global_active_power  Global_reactive_power  Voltage  \\\n",
       "datetime                                                                   \n",
       "2006-12-21 11:23:00                  NaN                    NaN      NaN   \n",
       "2006-12-21 11:24:00                  NaN                    NaN      NaN   \n",
       "2006-12-30 10:08:00                  NaN                    NaN      NaN   \n",
       "2006-12-30 10:09:00                  NaN                    NaN      NaN   \n",
       "2007-01-14 18:36:00                  NaN                    NaN      NaN   \n",
       "\n",
       "                     Global_intensity  Sub_metering_1  Sub_metering_2  \\\n",
       "datetime                                                                \n",
       "2006-12-21 11:23:00               NaN             NaN             NaN   \n",
       "2006-12-21 11:24:00               NaN             NaN             NaN   \n",
       "2006-12-30 10:08:00               NaN             NaN             NaN   \n",
       "2006-12-30 10:09:00               NaN             NaN             NaN   \n",
       "2007-01-14 18:36:00               NaN             NaN             NaN   \n",
       "\n",
       "                     Sub_metering_3  \n",
       "datetime                             \n",
       "2006-12-21 11:23:00             NaN  \n",
       "2006-12-21 11:24:00             NaN  \n",
       "2006-12-30 10:08:00             NaN  \n",
       "2006-12-30 10:09:00             NaN  \n",
       "2007-01-14 18:36:00             NaN  "
      ]
     },
     "execution_count": 35,
     "metadata": {},
     "output_type": "execute_result"
    }
   ],
   "source": [
    "missing_values = np.zeros((25979))\n",
    "j = 0\n",
    "for i in range(len(temp['Global_active_power'])):\n",
    "    if math.isnan(temp['Global_active_power'][i]):\n",
    "        missing_values[j] = i\n",
    "        j+=1\n",
    "\n",
    "temp.iloc[missing_values[:5]]"
   ]
  },
  {
   "cell_type": "markdown",
   "metadata": {
    "id": "vUZPdW1mPAo0"
   },
   "source": [
    "We are going to drop the consecutive NANs if the group is too huge."
   ]
  },
  {
   "cell_type": "code",
   "execution_count": 36,
   "metadata": {
    "colab": {
     "base_uri": "https://localhost:8080/",
     "height": 281
    },
    "executionInfo": {
     "elapsed": 721,
     "status": "ok",
     "timestamp": 1605441411057,
     "user": {
      "displayName": "Julie Keisler",
      "photoUrl": "",
      "userId": "12471311041049203692"
     },
     "user_tz": -60
    },
    "id": "NIIPxL86PJ5J",
    "outputId": "e3c7a5f9-37eb-4c2a-f6cf-cef60c93ff97"
   },
   "outputs": [
    {
     "name": "stdout",
     "output_type": "stream",
     "text": [
      "70\n"
     ]
    },
    {
     "data": {
      "image/png": "[encoded data removed]",
      "text/plain": [
       "<Figure size 432x288 with 1 Axes>"
      ]
     },
     "metadata": {
      "needs_background": "light"
     },
     "output_type": "display_data"
    }
   ],
   "source": [
    "group_missing_values = []\n",
    "\n",
    "element = missing_values[0]\n",
    "group_list = [element]\n",
    "for i in missing_values[1:]:\n",
    "    if element == i-1:\n",
    "        group_list.append(i)\n",
    "    else :\n",
    "        group_missing_values.append(group_list)\n",
    "        group_list = [i]\n",
    "    element = i\n",
    "\n",
    "x = np.arange(len(group_missing_values))\n",
    "size_Nan_groups = [len(i) for i in group_missing_values]\n",
    "\n",
    "plt.scatter(x, size_Nan_groups)\n",
    "\n",
    "print(len(x))"
   ]
  },
  {
   "cell_type": "markdown",
   "metadata": {
    "id": "LjFI3mssP36a"
   },
   "source": [
    "We can see on the graph that the large majority of NaNs are isolated. We can use a rooling mean or an interpolation to correct them. But a few groups are huge, with more than 14 hours without data. We are going to remove the corresponding day(s)."
   ]
  },
  {
   "cell_type": "code",
   "execution_count": 37,
   "metadata": {
    "colab": {
     "base_uri": "https://localhost:8080/"
    },
    "executionInfo": {
     "elapsed": 613,
     "status": "ok",
     "timestamp": 1605441415254,
     "user": {
      "displayName": "Julie Keisler",
      "photoUrl": "",
      "userId": "12471311041049203692"
     },
     "user_tz": -60
    },
    "id": "b8CfcjQ_RGav",
    "outputId": "d35f73ee-b480-47cc-fd69-b742d6185866"
   },
   "outputs": [
    {
     "name": "stdout",
     "output_type": "stream",
     "text": [
      "Remove from  2007-04-28  until  2007-04-30\n",
      "Remove from  2009-06-13  until  2009-06-15\n",
      "Remove from  2009-08-13  until  2009-08-13\n",
      "Remove from  2010-01-12  until  2010-01-14\n",
      "Remove from  2010-03-20  until  2010-03-21\n",
      "Remove from  2010-08-17  until  2010-08-22\n",
      "Remove from  2010-09-25  until  2010-09-28\n"
     ]
    }
   ],
   "source": [
    "index_huge_group = {}\n",
    "\n",
    "for k in range(len(size_Nan_groups)) :\n",
    "    i = size_Nan_groups[k]\n",
    "    if i > 120:\n",
    "        S = sum(size_Nan_groups[:k])\n",
    "        index_huge_group[int(missing_values[S])] = i\n",
    "  \n",
    "for key in index_huge_group.keys():\n",
    "    print(\"Remove from \", temp.index[key].date(), \" until \", temp.index[key + index_huge_group[key]].date())"
   ]
  },
  {
   "cell_type": "code",
   "execution_count": 62,
   "metadata": {
    "colab": {
     "base_uri": "https://localhost:8080/"
    },
    "executionInfo": {
     "elapsed": 1155,
     "status": "ok",
     "timestamp": 1605441418720,
     "user": {
      "displayName": "Julie Keisler",
      "photoUrl": "",
      "userId": "12471311041049203692"
     },
     "user_tz": -60
    },
    "id": "_JWEEXZ1b6ya",
    "outputId": "76c85c95-526b-40ed-f843-56b24c4e08b3"
   },
   "outputs": [
    {
     "name": "stdout",
     "output_type": "stream",
     "text": [
      "2007-04-28 00:00:00 2007-04-30 23:59:59\n",
      "2009-06-16 00:00:00 2009-06-18 23:59:59\n",
      "2009-08-19 00:00:00 2009-08-19 23:59:59\n",
      "2010-01-19 00:00:00 2010-01-21 23:59:59\n",
      "2010-03-30 00:00:00 2010-03-31 23:59:59\n",
      "2010-08-29 00:00:00 2010-09-03 23:59:59\n",
      "2010-10-13 00:00:00 2010-10-16 23:59:59\n",
      "Global_active_power      22256\n",
      "Global_reactive_power    22256\n",
      "Voltage                  22256\n",
      "Global_intensity         22256\n",
      "Sub_metering_1           22256\n",
      "Sub_metering_2           22256\n",
      "Sub_metering_3           22256\n",
      "dtype: int64\n"
     ]
    }
   ],
   "source": [
    "temp_fill = temp.copy(deep=False)\n",
    "\n",
    "for key in index_huge_group.keys():\n",
    "    Date_1 = temp_fill.index[key].date()\n",
    "    Date_1 = Date_1.strftime(\"%Y-%m-%d\")\n",
    "    Date_1 = pd.Timestamp(Date_1 + ' 00:00:00')\n",
    "    Date_2 = temp_fill.index[key + index_huge_group[key]].date()\n",
    "    Date_2 = Date_2.strftime(\"%Y-%m-%d\")\n",
    "    Date_2 = pd.Timestamp(Date_2 + ' 23:59:59')\n",
    "    print(Date_1, Date_2)\n",
    "\n",
    "    temp_fill = temp_fill[(temp_fill.index <= Date_1) | (temp_fill.index >= Date_2)]\n",
    "\n",
    "print(temp_fill.isna().sum())"
   ]
  },
  {
   "cell_type": "code",
   "execution_count": 69,
   "metadata": {},
   "outputs": [
    {
     "name": "stdout",
     "output_type": "stream",
     "text": [
      "Global_active_power    22256\n",
      "dtype: int64\n"
     ]
    }
   ],
   "source": [
    "temp_GAP = temp_fill[['Global_active_power']]\n",
    "print(temp_GAP.isna().sum())"
   ]
  },
  {
   "cell_type": "markdown",
   "metadata": {
    "id": "kSJmDfDzEdem"
   },
   "source": [
    "We can choose to drop or imput the missing values. We will try here the second solution using the data from the day before as it can be done in several work like this one:\n",
    "\n",
    "https://machinelearningmastery.com/multi-step-time-series-forecasting-with-machine-learning-models-for-household-electricity-consumption/"
   ]
  },
  {
   "cell_type": "code",
   "execution_count": 71,
   "metadata": {
    "colab": {
     "base_uri": "https://localhost:8080/"
    },
    "executionInfo": {
     "elapsed": 339753,
     "status": "ok",
     "timestamp": 1605443158641,
     "user": {
      "displayName": "Julie Keisler",
      "photoUrl": "",
      "userId": "12471311041049203692"
     },
     "user_tz": -60
    },
    "id": "dLx90mJ8Bqpc",
    "outputId": "aaf73a22-cadb-4601-872c-f7d3880511f2"
   },
   "outputs": [
    {
     "name": "stdout",
     "output_type": "stream",
     "text": [
      "0\n"
     ]
    },
    {
     "name": "stderr",
     "output_type": "stream",
     "text": [
      "<ipython-input-71-26c61c7e52a7>:14: SettingWithCopyWarning: \n",
      "A value is trying to be set on a copy of a slice from a DataFrame\n",
      "\n",
      "See the caveats in the documentation: https://pandas.pydata.org/pandas-docs/stable/user_guide/indexing.html#returning-a-view-versus-a-copy\n",
      "  df['Global_active_power'].loc[date] = df['Global_active_power'].loc[date -  datetime.timedelta(days=1)]/df['Global_active_power'].loc[day_1].mean(skipna=True)*df['Global_active_power'].loc[day].mean(skipna=True)\n"
     ]
    },
    {
     "name": "stdout",
     "output_type": "stream",
     "text": [
      "100000\n",
      "200000\n",
      "300000\n",
      "400000\n",
      "500000\n",
      "600000\n",
      "700000\n",
      "800000\n",
      "900000\n",
      "1000000\n",
      "1100000\n",
      "1200000\n",
      "1300000\n"
     ]
    },
    {
     "name": "stderr",
     "output_type": "stream",
     "text": [
      "D:\\Telecom\\3A_ETH\\Semester Thesis\\Semester Thesis\\venv_38\\lib\\site-packages\\pandas\\core\\indexing.py:670: SettingWithCopyWarning: \n",
      "A value is trying to be set on a copy of a slice from a DataFrame\n",
      "\n",
      "See the caveats in the documentation: https://pandas.pydata.org/pandas-docs/stable/user_guide/indexing.html#returning-a-view-versus-a-copy\n",
      "  iloc._setitem_with_indexer(indexer, value)\n",
      "<ipython-input-71-26c61c7e52a7>:16: SettingWithCopyWarning: \n",
      "A value is trying to be set on a copy of a slice from a DataFrame\n",
      "\n",
      "See the caveats in the documentation: https://pandas.pydata.org/pandas-docs/stable/user_guide/indexing.html#returning-a-view-versus-a-copy\n",
      "  df.loc[date] = df.loc[date -  datetime.timedelta(days=1)]\n"
     ]
    },
    {
     "name": "stdout",
     "output_type": "stream",
     "text": [
      "1400000\n",
      "1500000\n",
      "1600000\n",
      "1700000\n",
      "1800000\n",
      "1900000\n",
      "2000000\n",
      "Global_active_power    0\n",
      "dtype: int64\n"
     ]
    }
   ],
   "source": [
    "import datetime\n",
    "\n",
    "# fill missing values with a value at the same time one day ago\n",
    "\n",
    "def fill_missing(df):\n",
    "    i = 0\n",
    "    for date in df.index:\n",
    "        if i%100000 == 0:\n",
    "            print(i)\n",
    "        if np.isnan(df.loc[date][0]):\n",
    "            day = str(df.index.date[i])\n",
    "            day_1 = str(df.index.date[i] - datetime.timedelta(days=1))\n",
    "            if(not(np.isnan(df['Global_active_power'].loc[day].mean(skipna=True)))):\n",
    "                df['Global_active_power'].loc[date] = df['Global_active_power'].loc[date -  datetime.timedelta(days=1)]/df['Global_active_power'].loc[day_1].mean(skipna=True)*df['Global_active_power'].loc[day].mean(skipna=True)\n",
    "            else:\n",
    "                df.loc[date] = df.loc[date -  datetime.timedelta(days=1)]   \n",
    "        i+=1\n",
    "    return(df)\n",
    "\n",
    "temp_GAP_fill = fill_missing(temp_GAP)\n",
    "\n",
    "print(temp_GAP_fill.isna().sum())"
   ]
  },
  {
   "cell_type": "code",
   "execution_count": 72,
   "metadata": {
    "colab": {
     "base_uri": "https://localhost:8080/",
     "height": 265
    },
    "executionInfo": {
     "elapsed": 1061,
     "status": "ok",
     "timestamp": 1605443191125,
     "user": {
      "displayName": "Julie Keisler",
      "photoUrl": "",
      "userId": "12471311041049203692"
     },
     "user_tz": -60
    },
    "id": "sRu-gIplKh9v",
    "outputId": "89b7e97d-6f12-4d97-9aa5-9114b8831b05"
   },
   "outputs": [
    {
     "data": {
      "image/png": "[encoded data removed]",
      "text/plain": [
       "<Figure size 1440x720 with 4 Axes>"
      ]
     },
     "metadata": {
      "needs_background": "light"
     },
     "output_type": "display_data"
    }
   ],
   "source": [
    "index1 = int(missing_values[0])\n",
    "index2 = int(missing_values[1])\n",
    "# index3 = int(missing_values[2])\n",
    "# index4 = int(missing_values[3])\n",
    "\n",
    "S3 = sum(size_Nan_groups[:15])\n",
    "S4 = sum(size_Nan_groups[:18])\n",
    "\n",
    "index3 = int(missing_values[S3])\n",
    "index4 = int(missing_values[S4])\n",
    "\n",
    "f = plt.figure(figsize=(20,10))\n",
    "ax1 = f.add_subplot(221)\n",
    "ax1.plot(temp.index[index1-100: index1+100], temp_GAP_fill['Global_active_power'][index1-100: index1 + 100], 'b')\n",
    "ax1.plot(temp.index[index1-100: index1+100], temp['Global_active_power'][index1-100: index1 + 100], 'r')\n",
    "\n",
    "ax2 = f.add_subplot(222)\n",
    "ax2.plot(temp.index[index2-100: index2+100], temp_GAP_fill['Global_active_power'][index2-100: index2 + 100], 'b')\n",
    "ax2.plot(temp.index[index2-100: index2+100], temp['Global_active_power'][index2-100: index2 + 100], 'r')\n",
    "\n",
    "ax3 = f.add_subplot(223)\n",
    "ax3.plot(temp.index[index3-100: index3+100], temp_GAP_fill['Global_active_power'][(index3 - 4320)-100: (index3 - 4320) + 100], 'b')\n",
    "ax3.plot(temp.index[index3-100: index3+100], temp['Global_active_power'][index3-100: index3 + 100], 'r')\n",
    "\n",
    "ax4 = f.add_subplot(224)\n",
    "ax4.plot(temp.index[index4-100: index4+100], temp_GAP_fill['Global_active_power'][(index4 - 4320)-100: (index4  - 4320) + 100], 'b')\n",
    "ax4.plot(temp.index[index4-100: index4+100], temp['Global_active_power'][index4 - 100: index4 + 100], 'r')\n",
    "plt.show()"
   ]
  },
  {
   "cell_type": "markdown",
   "metadata": {
    "id": "_70xQTZQ3Y60"
   },
   "source": [
    "We can see that this tool works pretty well even if some values can be interpreted as outliers."
   ]
  },
  {
   "cell_type": "markdown",
   "metadata": {
    "id": "54AWapL_0v7X"
   },
   "source": [
    "#### Aggregate to hour dataset"
   ]
  },
  {
   "cell_type": "code",
   "execution_count": 73,
   "metadata": {
    "executionInfo": {
     "elapsed": 771,
     "status": "ok",
     "timestamp": 1605445739246,
     "user": {
      "displayName": "Julie Keisler",
      "photoUrl": "",
      "userId": "12471311041049203692"
     },
     "user_tz": -60
    },
    "id": "y4qKrMcJ0x83"
   },
   "outputs": [],
   "source": [
    "# resample data to hourly\n",
    "hourly_groups = temp_GAP_fill.resample('H')\n",
    "hourly_data = hourly_groups.sum()"
   ]
  },
  {
   "cell_type": "code",
   "execution_count": 74,
   "metadata": {
    "colab": {
     "base_uri": "https://localhost:8080/",
     "height": 226
    },
    "executionInfo": {
     "elapsed": 664,
     "status": "ok",
     "timestamp": 1605445743294,
     "user": {
      "displayName": "Julie Keisler",
      "photoUrl": "",
      "userId": "12471311041049203692"
     },
     "user_tz": -60
    },
    "id": "PliExJmO1XsR",
    "outputId": "3a8af3e6-f4f2-45cd-9d61-ea28cb0ee138",
    "scrolled": true
   },
   "outputs": [
    {
     "data": {
      "text/html": [
       "<div>\n",
       "<style scoped>\n",
       "    .dataframe tbody tr th:only-of-type {\n",
       "        vertical-align: middle;\n",
       "    }\n",
       "\n",
       "    .dataframe tbody tr th {\n",
       "        vertical-align: top;\n",
       "    }\n",
       "\n",
       "    .dataframe thead th {\n",
       "        text-align: right;\n",
       "    }\n",
       "</style>\n",
       "<table border=\"1\" class=\"dataframe\">\n",
       "  <thead>\n",
       "    <tr style=\"text-align: right;\">\n",
       "      <th></th>\n",
       "      <th>Global_active_power</th>\n",
       "    </tr>\n",
       "    <tr>\n",
       "      <th>datetime</th>\n",
       "      <th></th>\n",
       "    </tr>\n",
       "  </thead>\n",
       "  <tbody>\n",
       "    <tr>\n",
       "      <th>2006-12-16 17:00:00</th>\n",
       "      <td>152.024</td>\n",
       "    </tr>\n",
       "    <tr>\n",
       "      <th>2006-12-16 18:00:00</th>\n",
       "      <td>217.932</td>\n",
       "    </tr>\n",
       "    <tr>\n",
       "      <th>2006-12-16 19:00:00</th>\n",
       "      <td>204.014</td>\n",
       "    </tr>\n",
       "    <tr>\n",
       "      <th>2006-12-16 20:00:00</th>\n",
       "      <td>196.114</td>\n",
       "    </tr>\n",
       "    <tr>\n",
       "      <th>2006-12-16 21:00:00</th>\n",
       "      <td>183.388</td>\n",
       "    </tr>\n",
       "  </tbody>\n",
       "</table>\n",
       "</div>"
      ],
      "text/plain": [
       "                     Global_active_power\n",
       "datetime                                \n",
       "2006-12-16 17:00:00              152.024\n",
       "2006-12-16 18:00:00              217.932\n",
       "2006-12-16 19:00:00              204.014\n",
       "2006-12-16 20:00:00              196.114\n",
       "2006-12-16 21:00:00              183.388"
      ]
     },
     "execution_count": 74,
     "metadata": {},
     "output_type": "execute_result"
    }
   ],
   "source": [
    "hourly_data.head()"
   ]
  },
  {
   "cell_type": "markdown",
   "metadata": {
    "id": "b9WrvS1C2xHm"
   },
   "source": [
    "#### Data scaling"
   ]
  },
  {
   "cell_type": "code",
   "execution_count": null,
   "metadata": {
    "executionInfo": {
     "elapsed": 758,
     "status": "ok",
     "timestamp": 1605445748865,
     "user": {
      "displayName": "Julie Keisler",
      "photoUrl": "",
      "userId": "12471311041049203692"
     },
     "user_tz": -60
    },
    "id": "apb88HbB39z6"
   },
   "outputs": [],
   "source": [
    "scaler = MinMaxScaler(feature_range=(0,1))\n",
    "\n",
    "print(\"Min minute: \", temp_fill['Global_active_power'].min(axis=0))\n",
    "print(\"Max minute: \", temp_fill['Global_active_power'].max(axis=0))\n",
    "\n",
    "print(\"Min hourly: \", hourly_data['Global_active_power'].min(axis=0))\n",
    "print(\"Max hourly: \", hourly_data['Global_active_power'].max(axis=0))\n",
    "\n",
    "\n",
    "\"\"\"temp_fill[['Global_active_power', 'Global_reactive_power','Voltage','Global_intensity','Sub_metering_1','Sub_metering_2',\n",
    "           'Sub_metering_3']] = scaler.fit_transform(temp_fill[['Global_active_power', 'Global_reactive_power',\n",
    "                        'Voltage','Global_intensity','Sub_metering_1', 'Sub_metering_2','Sub_metering_3']])\n",
    "          \n",
    "hourly_data[['Global_active_power', 'Global_reactive_power','Voltage','Global_intensity','Sub_metering_1','Sub_metering_2',\n",
    "           'Sub_metering_3']] = scaler.fit_transform(hourly_data[['Global_active_power', 'Global_reactive_power','Voltage',\n",
    "                        'Global_intensity','Sub_metering_1','Sub_metering_2','Sub_metering_3']])\"\"\""
   ]
  },
  {
   "cell_type": "markdown",
   "metadata": {
    "id": "PIvYOy0oObwd",
    "pycharm": {
     "name": "#%% md\n"
    }
   },
   "source": [
    "#### Export Dataset"
   ]
  },
  {
   "cell_type": "code",
   "execution_count": 75,
   "metadata": {
    "executionInfo": {
     "elapsed": 26702,
     "status": "ok",
     "timestamp": 1605445781017,
     "user": {
      "displayName": "Julie Keisler",
      "photoUrl": "",
      "userId": "12471311041049203692"
     },
     "user_tz": -60
    },
    "id": "gn774ul1Oa5S",
    "pycharm": {
     "name": "#%%\n"
    }
   },
   "outputs": [],
   "source": [
    "preprocess_path = \"../Data/02_preprocessed_data\"\n",
    "\n",
    "#temp_fill.to_csv(os.path.join(preprocess_path,\"household_power_consumption_processed.csv\"), sep = ';')\n",
    "\n",
    "hourly_data.to_csv(os.path.join(preprocess_path,\"household_power_consumption_processed_hourly.csv\"), sep = ';')\n"
   ]
  },
  {
   "cell_type": "code",
   "execution_count": null,
   "metadata": {
    "pycharm": {
     "name": "#%%\n"
    }
   },
   "outputs": [],
   "source": []
  }
 ],
 "metadata": {
  "colab": {
   "authorship_tag": "ABX9TyO6NZxHQYmR/WZnHuqSoiQZ",
   "collapsed_sections": [
    "k-WgJ7Zq3bn9",
    "V-bKymbP7rEJ"
   ],
   "name": "UCI dataset Preprocessing.ipynb",
   "provenance": []
  },
  "kernelspec": {
   "display_name": "PyCharm (Semester Thesis)",
   "language": "python",
   "name": "pycharm-21a39358"
  },
  "language_info": {
   "codemirror_mode": {
    "name": "ipython",
    "version": 3
   },
   "file_extension": ".py",
   "mimetype": "text/x-python",
   "name": "python",
   "nbconvert_exporter": "python",
   "pygments_lexer": "ipython3",
   "version": "3.7.1"
  }
 },
 "nbformat": 4,
 "nbformat_minor": 1
}
